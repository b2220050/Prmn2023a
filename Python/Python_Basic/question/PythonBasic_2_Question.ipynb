{
  "nbformat": 4,
  "nbformat_minor": 0,
  "metadata": {
    "colab": {
      "provenance": [],
      "toc_visible": true,
      "include_colab_link": true
    },
    "kernelspec": {
      "name": "python3",
      "display_name": "Python 3"
    },
    "language_info": {
      "name": "python"
    }
  },
  "cells": [
    {
      "cell_type": "markdown",
      "metadata": {
        "id": "view-in-github",
        "colab_type": "text"
      },
      "source": [
        "<a href=\"https://colab.research.google.com/github/b2220050/Prmn2023a/blob/main/Python/Python_Basic/question/PythonBasic_2_Question.ipynb\" target=\"_parent\"><img src=\"https://colab.research.google.com/assets/colab-badge.svg\" alt=\"Open In Colab\"/></a>"
      ]
    },
    {
      "cell_type": "markdown",
      "source": [
        "# 第2章 課題"
      ],
      "metadata": {
        "id": "C44SsXDACtHu"
      }
    },
    {
      "cell_type": "markdown",
      "source": [
        "## 課題1"
      ],
      "metadata": {
        "id": "OnkezWHRCwr9"
      }
    },
    {
      "cell_type": "markdown",
      "source": [
        "for文を使って、以下のように出力してください"
      ],
      "metadata": {
        "id": "q32rK-cECzCl"
      }
    },
    {
      "cell_type": "markdown",
      "source": [
        "![oSFeQoX.png](https://i.imgur.com/oSFeQoX.png)"
      ],
      "metadata": {
        "id": "FxMcxznVB6cI"
      }
    },
    {
      "cell_type": "code",
      "source": [
        "# 入力用\n",
        "for i in range(4):\n",
        "  i=i+i\n",
        "  i+=1\n",
        "  a='*'*i\n",
        "  print(a.center(7))"
      ],
      "metadata": {
        "id": "iBFSsrdRC5Zt",
        "outputId": "1505737c-0ae5-4551-f377-32ac4f56fc68",
        "colab": {
          "base_uri": "https://localhost:8080/"
        }
      },
      "execution_count": 3,
      "outputs": [
        {
          "output_type": "stream",
          "name": "stdout",
          "text": [
            "   *   \n",
            "  ***  \n",
            " ***** \n",
            "*******\n"
          ]
        }
      ]
    },
    {
      "cell_type": "markdown",
      "source": [
        "## 課題2"
      ],
      "metadata": {
        "id": "gIn-UqGTCagu"
      }
    },
    {
      "cell_type": "markdown",
      "source": [
        "課題1の場合を`n=4`として、nを自分で設定して出力できるようにしてください"
      ],
      "metadata": {
        "id": "ltdiEdqYDFy8"
      }
    },
    {
      "cell_type": "markdown",
      "source": [
        "＜例＞ n=5の場合  \n",
        "![o5NjugQ.png](https://imgur.com/o5NjugQ.png)"
      ],
      "metadata": {
        "id": "hw0FM8BRDHz1"
      }
    },
    {
      "cell_type": "code",
      "source": [
        "# 入力用\n",
        "n=int(input())\n",
        "for i in range(n):\n",
        "  i=i+i\n",
        "  i+=1\n",
        "  a='*'*i\n",
        "  print(a.center(2*n-1))"
      ],
      "metadata": {
        "id": "upd76Tv-FrIB",
        "outputId": "0d1ae274-f77e-4d7a-bef6-379608a0661e",
        "colab": {
          "base_uri": "https://localhost:8080/"
        }
      },
      "execution_count": 2,
      "outputs": [
        {
          "output_type": "stream",
          "name": "stdout",
          "text": [
            "5\n",
            "    *    \n",
            "   ***   \n",
            "  *****  \n",
            " ******* \n",
            "*********\n"
          ]
        }
      ]
    },
    {
      "cell_type": "markdown",
      "source": [
        "## 課題3"
      ],
      "metadata": {
        "id": "tLMJvwBDE7wT"
      }
    },
    {
      "cell_type": "markdown",
      "source": [
        "for文を使って、以下のように出力してください"
      ],
      "metadata": {
        "id": "vZNvWsG7E99q"
      }
    },
    {
      "cell_type": "markdown",
      "source": [
        "![oSirXec.png](https://imgur.com/oSirXec.png)"
      ],
      "metadata": {
        "id": "ijOV-ilXGDNR"
      }
    },
    {
      "cell_type": "code",
      "source": [
        "# 入力用\n",
        "n = 4\n",
        "for i in range(1, n + 1):\n",
        "    print(' ' * (n - i) + '*' * (2 * i - 1))\n",
        "for i in range(n-1, 0, -1):\n",
        "    print(' ' * (n - i) + '*' * (2 * i - 1))\n"
      ],
      "metadata": {
        "id": "Q5Ob9uZpGIE3",
        "outputId": "c8cff3f5-0f5d-4ae8-d763-f35a3d7acfce",
        "colab": {
          "base_uri": "https://localhost:8080/"
        }
      },
      "execution_count": 11,
      "outputs": [
        {
          "output_type": "stream",
          "name": "stdout",
          "text": [
            "   *\n",
            "  ***\n",
            " *****\n",
            "*******\n",
            " *****\n",
            "  ***\n",
            "   *\n"
          ]
        }
      ]
    },
    {
      "cell_type": "markdown",
      "source": [
        "## 課題4"
      ],
      "metadata": {
        "id": "Oh7whOPkGQ3I"
      }
    },
    {
      "cell_type": "markdown",
      "source": [
        "課題3の場合を`n=4`として、nを自分で設定して出力できるようにしてください"
      ],
      "metadata": {
        "id": "PnvT8MQbGS03"
      }
    },
    {
      "cell_type": "markdown",
      "source": [
        "＜例＞ n=5の場合  \n",
        "\n",
        "![my4J17V.png](https://i.imgur.com/my4J17V.png)"
      ],
      "metadata": {
        "id": "ZujkAbVMGzhn"
      }
    },
    {
      "cell_type": "code",
      "source": [
        "# 入力用\n",
        "n = int(input())\n",
        "for i in range(1, n + 1):\n",
        "    print(' ' * (n - i) + '*' * (2 * i - 1))\n",
        "for i in range(n-1, 0, -1):\n",
        "    print(' ' * (n - i) + '*' * (2 * i - 1))"
      ],
      "metadata": {
        "id": "hCFNQ7mWG99u",
        "outputId": "0e35dc36-21db-495a-c7d3-b8fd76aee1bc",
        "colab": {
          "base_uri": "https://localhost:8080/"
        }
      },
      "execution_count": 12,
      "outputs": [
        {
          "output_type": "stream",
          "name": "stdout",
          "text": [
            "5\n",
            "    *\n",
            "   ***\n",
            "  *****\n",
            " *******\n",
            "*********\n",
            " *******\n",
            "  *****\n",
            "   ***\n",
            "    *\n"
          ]
        }
      ]
    },
    {
      "cell_type": "markdown",
      "source": [
        "## 課題5"
      ],
      "metadata": {
        "id": "R2MvOK4wHJlK"
      }
    },
    {
      "cell_type": "markdown",
      "source": [
        "for文を使って、以下のように出力してください"
      ],
      "metadata": {
        "id": "ddMIUoaKHcwd"
      }
    },
    {
      "cell_type": "markdown",
      "source": [
        "![vDUi5eM.png](https://imgur.com/vDUi5eM.png)"
      ],
      "metadata": {
        "id": "CD1cVUlWHLVO"
      }
    },
    {
      "cell_type": "code",
      "source": [
        "# 入力用\n",
        "n = 4\n",
        "for i in range(1, n+1 ):\n",
        "    print(' ' * (n - i) + '*' * (2 * i - 1)+' '*(2*(n - i)-1)+'*'*((2 * i - 1)-i//n))\n",
        "for i in range(n-1, 0, -1):\n",
        "    print(' ' * (n - i) + '*' * (2 * i - 1)+' '*(2*(n - i)-1)+'*'*((2 * i - 1)-i//n))\n"
      ],
      "metadata": {
        "id": "1pDkfJpUHd93",
        "outputId": "f22e0c99-3ef7-4f6c-da15-bb180f7b4143",
        "colab": {
          "base_uri": "https://localhost:8080/"
        }
      },
      "execution_count": 40,
      "outputs": [
        {
          "output_type": "stream",
          "name": "stdout",
          "text": [
            "   *     *\n",
            "  ***   ***\n",
            " ***** *****\n",
            "*************\n",
            " ***** *****\n",
            "  ***   ***\n",
            "   *     *\n"
          ]
        }
      ]
    },
    {
      "cell_type": "markdown",
      "source": [
        "## 課題6"
      ],
      "metadata": {
        "id": "oubbafOBHerl"
      }
    },
    {
      "cell_type": "markdown",
      "source": [
        "課題5の場合を`n=4`として、nを自分で設定して出力できるようにしてください"
      ],
      "metadata": {
        "id": "7SzgFdC-HzG9"
      }
    },
    {
      "cell_type": "markdown",
      "source": [
        "＜例＞ n=5の場合  \n",
        "\n",
        "![udkVlYG.png](https://imgur.com/udkVlYG.png)"
      ],
      "metadata": {
        "id": "LY8g9PVPH2OW"
      }
    },
    {
      "cell_type": "code",
      "source": [
        "# 入力用\n",
        "n = int(input())\n",
        "for i in range(1, n+1 ):\n",
        "    print(' ' * (n - i) + '*' * (2 * i - 1)+' '*(2*(n - i)-1)+'*'*((2 * i - 1)-i//n))\n",
        "for i in range(n-1, 0, -1):\n",
        "    print(' ' * (n - i) + '*' * (2 * i - 1)+' '*(2*(n - i)-1)+'*'*((2 * i - 1)-i//n))"
      ],
      "metadata": {
        "id": "XZOK5ulbH-tu",
        "outputId": "f2313682-17be-4e9e-d538-03180d2a7c40",
        "colab": {
          "base_uri": "https://localhost:8080/"
        }
      },
      "execution_count": 39,
      "outputs": [
        {
          "output_type": "stream",
          "name": "stdout",
          "text": [
            "5\n",
            "    *       *\n",
            "   ***     ***\n",
            "  *****   *****\n",
            " ******* *******\n",
            "*****************\n",
            " ******* *******\n",
            "  *****   *****\n",
            "   ***     ***\n",
            "    *       *\n"
          ]
        }
      ]
    },
    {
      "cell_type": "markdown",
      "source": [
        "## 課題7"
      ],
      "metadata": {
        "id": "ouqTUmPQIKGF"
      }
    },
    {
      "cell_type": "markdown",
      "source": [
        "for文を使って、以下のように出力してください"
      ],
      "metadata": {
        "id": "WHSxdOHuIMRM"
      }
    },
    {
      "cell_type": "markdown",
      "source": [
        "![IuP0M16.png](https://imgur.com/IuP0M16.png)"
      ],
      "metadata": {
        "id": "-G--WFTkIM8s"
      }
    },
    {
      "cell_type": "code",
      "source": [
        "# 入力用\n",
        "n = 4\n",
        "for i in range(1, n+1 ):\n",
        "    print(' ' * (n - i) + '*' * (2 * i - 1)+' '*(2*(n - i)-1)+'*'*((2 * i - 1)-i//n))\n",
        "for i in range(n-1, 0, -1):\n",
        "    print(' ' * (n - i) + '*' * (2 * i - 1)+' '*(2*(n - i)-1)+'*'*((2 * i - 1)-i//n))\n",
        "for i in range(2, n+1 ):\n",
        "    print(' ' * (n - i) + '*' * (2 * i - 1)+' '*(2*(n - i)-1)+'*'*((2 * i - 1)-i//n))\n",
        "for i in range(n-1, 0, -1):\n",
        "    print(' ' * (n - i) + '*' * (2 * i - 1)+' '*(2*(n - i)-1)+'*'*((2 * i - 1)-i//n))\n"
      ],
      "metadata": {
        "id": "BVXjDteuIijL",
        "outputId": "6af95a30-f1ea-421c-9bd6-1d322ced40a0",
        "colab": {
          "base_uri": "https://localhost:8080/"
        }
      },
      "execution_count": 46,
      "outputs": [
        {
          "output_type": "stream",
          "name": "stdout",
          "text": [
            "   *     *\n",
            "  ***   ***\n",
            " ***** *****\n",
            "*************\n",
            " ***** *****\n",
            "  ***   ***\n",
            "   *     *\n",
            "  ***   ***\n",
            " ***** *****\n",
            "*************\n",
            " ***** *****\n",
            "  ***   ***\n",
            "   *     *\n"
          ]
        }
      ]
    },
    {
      "cell_type": "markdown",
      "source": [
        "## 課題8"
      ],
      "metadata": {
        "id": "31u0ExX2IjWj"
      }
    },
    {
      "cell_type": "markdown",
      "source": [
        "課題7の場合を`n=4`として、nを自分で設定して出力できるようにしてください"
      ],
      "metadata": {
        "id": "zeOvmKarInpz"
      }
    },
    {
      "cell_type": "markdown",
      "source": [
        "＜例＞ n=5の場合  \n",
        "\n",
        "![AlTnu1k.png](https://imgur.com/AlTnu1k.png)"
      ],
      "metadata": {
        "id": "2uLR5sbKIov2"
      }
    },
    {
      "cell_type": "code",
      "source": [
        "# 入力用\n",
        "n = int(input())\n",
        "for i in range(1, n+1 ):\n",
        "    print(' ' * (n - i) + '*' * (2 * i - 1)+' '*(2*(n - i)-1)+'*'*((2 * i - 1)-i//n))\n",
        "for i in range(n-1, 0, -1):\n",
        "    print(' ' * (n - i) + '*' * (2 * i - 1)+' '*(2*(n - i)-1)+'*'*((2 * i - 1)-i//n))\n",
        "for i in range(2, n+1 ):\n",
        "    print(' ' * (n - i) + '*' * (2 * i - 1)+' '*(2*(n - i)-1)+'*'*((2 * i - 1)-i//n))\n",
        "for i in range(n-1, 0, -1):\n",
        "    print(' ' * (n - i) + '*' * (2 * i - 1)+' '*(2*(n - i)-1)+'*'*((2 * i - 1)-i//n))\n"
      ],
      "metadata": {
        "id": "TXJaIVbYI_Cd",
        "outputId": "372fc9c0-3e30-4b21-e2b7-e5c968db2871",
        "colab": {
          "base_uri": "https://localhost:8080/"
        }
      },
      "execution_count": 47,
      "outputs": [
        {
          "output_type": "stream",
          "name": "stdout",
          "text": [
            "5\n",
            "    *       *\n",
            "   ***     ***\n",
            "  *****   *****\n",
            " ******* *******\n",
            "*****************\n",
            " ******* *******\n",
            "  *****   *****\n",
            "   ***     ***\n",
            "    *       *\n",
            "   ***     ***\n",
            "  *****   *****\n",
            " ******* *******\n",
            "*****************\n",
            " ******* *******\n",
            "  *****   *****\n",
            "   ***     ***\n",
            "    *       *\n"
          ]
        }
      ]
    }
  ]
}